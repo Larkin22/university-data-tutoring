{
 "cells": [
  {
   "cell_type": "markdown",
   "id": "0ee672d0",
   "metadata": {},
   "source": [
    "**Universities**\n",
    "\n",
    "The dataset on American college and university rankings (available from www.dataminingbook.com) contains information on 1302 American colleges and universities oﬀering an undergraduate program. \n",
    "\n",
    "For each university, there are 17 measurements that include continuous measurements (such as tuition and graduation rate) and categorical measurements (such as location by state and whether it is a private or a public school).\n",
    "\n",
    "© 2016 Galit Shmueli and Peter Bruce\n",
    "Source: Compiled from US News and World Report rankings on 1302  American Colleges and Universities"
   ]
  },
  {
   "cell_type": "markdown",
   "id": "b54c9cf6",
   "metadata": {},
   "source": [
    "| Column Name                | Description                                                                                     |\n",
    "|----------------------------|-------------------------------------------------------------------------------------------------|\n",
    "| `College Name`             | The name of the college or university.                                                          |\n",
    "| `State`                    | The U.S. state where the college is located.                                                    |\n",
    "| `Public (1)/ Private (2)`  | Indicator of whether the institution is public (1) or private (2).                              |\n",
    "| `# appli. rec'd`           | The number of applications received by the college.                                             |\n",
    "| `# appl. accepted`         | The number of applications accepted by the college.                                             |\n",
    "| `# new stud. enrolled`     | The number of new students enrolled.                                                            |\n",
    "| `% new stud. from top 10%` | The percentage of new students who were in the top 10% of their high school class.              |\n",
    "| `% new stud. from top 25%` | The percentage of new students who were in the top 25% of their high school class.              |\n",
    "| `# FT undergrad`           | The number of full-time undergraduate students.                                                 |\n",
    "| `# PT undergrad`           | The number of part-time undergraduate students.                                                 |\n",
    "| `in-state tuition`         | The tuition cost for in-state students.                                                         |\n",
    "| `out-of-state tuition`     | The tuition cost for out-of-state students.                                                     |\n",
    "| `room`                     | The cost of room/board.                                                                         |\n",
    "| `board`                    | Another component of the cost of living on campus, possibly overlapping with \"room\".            |\n",
    "| `add. fees`                | Additional fees charged by the college.                                                         |\n",
    "| `estim. book costs`        | Estimated cost of books.                                                                        |\n",
    "| `estim. personal $`        | Estimated personal expenses.                                                                    |\n",
    "| `% fac. w/PHD`             | The percentage of faculty members with a Ph.D.                                                  |\n",
    "| `stud./fac. ratio`         | The student-to-faculty ratio.                                                                   |\n",
    "| `Graduation rate`          | The graduation rate of the college.                                                             |\n"
   ]
  },
  {
   "cell_type": "markdown",
   "id": "c83ff8cd",
   "metadata": {},
   "source": [
    "#### Import libraries"
   ]
  },
  {
   "cell_type": "code",
   "execution_count": 1,
   "id": "b80ae63b",
   "metadata": {
    "scrolled": true
   },
   "outputs": [],
   "source": [
    "import pandas as pd\n",
    "import numpy as np\n",
    "import re\n",
    "import us\n",
    "\n",
    "import matplotlib.pyplot as plt\n",
    "import seaborn as sns"
   ]
  },
  {
   "cell_type": "code",
   "execution_count": 2,
   "id": "266e3fd2",
   "metadata": {},
   "outputs": [],
   "source": [
    "unis = pd.read_excel('Universities.xlsx', sheet_name=\"usnews3.data.9 .SS (v5.0)\")"
   ]
  },
  {
   "cell_type": "code",
   "execution_count": 3,
   "id": "df84ccd5",
   "metadata": {},
   "outputs": [
    {
     "data": {
      "text/plain": [
       "(1302, 20)"
      ]
     },
     "execution_count": 3,
     "metadata": {},
     "output_type": "execute_result"
    }
   ],
   "source": [
    "unis.shape"
   ]
  },
  {
   "cell_type": "code",
   "execution_count": 4,
   "id": "6c1bad65",
   "metadata": {
    "scrolled": false
   },
   "outputs": [
    {
     "data": {
      "text/plain": [
       "Index(['College Name', 'State', 'Public (1)/ Private (2)', '# appli. rec'd',\n",
       "       '# appl. accepted', '# new stud. enrolled', '% new stud. from top 10%',\n",
       "       '% new stud. from top 25%', '# FT undergrad', '# PT undergrad',\n",
       "       'in-state tuition', 'out-of-state tuition', 'room', 'board',\n",
       "       'add. fees', 'estim. book costs', 'estim. personal $', '% fac. w/PHD',\n",
       "       'stud./fac. ratio', 'Graduation rate'],\n",
       "      dtype='object')"
      ]
     },
     "execution_count": 4,
     "metadata": {},
     "output_type": "execute_result"
    }
   ],
   "source": [
    "unis.columns"
   ]
  },
  {
   "cell_type": "code",
   "execution_count": 5,
   "id": "abbfe673",
   "metadata": {},
   "outputs": [
    {
     "data": {
      "text/plain": [
       "float64    17\n",
       "object      2\n",
       "int64       1\n",
       "Name: count, dtype: int64"
      ]
     },
     "execution_count": 5,
     "metadata": {},
     "output_type": "execute_result"
    }
   ],
   "source": [
    "#unis.info()\n",
    "\n",
    "unis.dtypes.value_counts()"
   ]
  },
  {
   "cell_type": "code",
   "execution_count": 6,
   "id": "ccf76858",
   "metadata": {
    "scrolled": true
   },
   "outputs": [
    {
     "data": {
      "text/html": [
       "<div>\n",
       "<style scoped>\n",
       "    .dataframe tbody tr th:only-of-type {\n",
       "        vertical-align: middle;\n",
       "    }\n",
       "\n",
       "    .dataframe tbody tr th {\n",
       "        vertical-align: top;\n",
       "    }\n",
       "\n",
       "    .dataframe thead th {\n",
       "        text-align: right;\n",
       "    }\n",
       "</style>\n",
       "<table border=\"1\" class=\"dataframe\">\n",
       "  <thead>\n",
       "    <tr style=\"text-align: right;\">\n",
       "      <th></th>\n",
       "      <th>College Name</th>\n",
       "      <th>State</th>\n",
       "      <th>Public (1)/ Private (2)</th>\n",
       "      <th># appli. rec'd</th>\n",
       "      <th># appl. accepted</th>\n",
       "      <th># new stud. enrolled</th>\n",
       "      <th>% new stud. from top 10%</th>\n",
       "      <th>% new stud. from top 25%</th>\n",
       "      <th># FT undergrad</th>\n",
       "      <th># PT undergrad</th>\n",
       "      <th>in-state tuition</th>\n",
       "      <th>out-of-state tuition</th>\n",
       "      <th>room</th>\n",
       "      <th>board</th>\n",
       "      <th>add. fees</th>\n",
       "      <th>estim. book costs</th>\n",
       "      <th>estim. personal $</th>\n",
       "      <th>% fac. w/PHD</th>\n",
       "      <th>stud./fac. ratio</th>\n",
       "      <th>Graduation rate</th>\n",
       "    </tr>\n",
       "  </thead>\n",
       "  <tbody>\n",
       "    <tr>\n",
       "      <th>0</th>\n",
       "      <td>Alaska Pacific University</td>\n",
       "      <td>AK</td>\n",
       "      <td>2</td>\n",
       "      <td>193.0</td>\n",
       "      <td>146.0</td>\n",
       "      <td>55.0</td>\n",
       "      <td>16.0</td>\n",
       "      <td>44.0</td>\n",
       "      <td>249.0</td>\n",
       "      <td>869.0</td>\n",
       "      <td>7560.0</td>\n",
       "      <td>7560.0</td>\n",
       "      <td>1620.0</td>\n",
       "      <td>2500.0</td>\n",
       "      <td>130.0</td>\n",
       "      <td>800.0</td>\n",
       "      <td>1500.0</td>\n",
       "      <td>76.0</td>\n",
       "      <td>11.9</td>\n",
       "      <td>15.0</td>\n",
       "    </tr>\n",
       "    <tr>\n",
       "      <th>1</th>\n",
       "      <td>University of Alaska at Fairbanks</td>\n",
       "      <td>AK</td>\n",
       "      <td>1</td>\n",
       "      <td>1852.0</td>\n",
       "      <td>1427.0</td>\n",
       "      <td>928.0</td>\n",
       "      <td>NaN</td>\n",
       "      <td>NaN</td>\n",
       "      <td>3885.0</td>\n",
       "      <td>4519.0</td>\n",
       "      <td>1742.0</td>\n",
       "      <td>5226.0</td>\n",
       "      <td>1800.0</td>\n",
       "      <td>1790.0</td>\n",
       "      <td>155.0</td>\n",
       "      <td>650.0</td>\n",
       "      <td>2304.0</td>\n",
       "      <td>67.0</td>\n",
       "      <td>10.0</td>\n",
       "      <td>NaN</td>\n",
       "    </tr>\n",
       "  </tbody>\n",
       "</table>\n",
       "</div>"
      ],
      "text/plain": [
       "                        College Name State  Public (1)/ Private (2)  \\\n",
       "0          Alaska Pacific University    AK                        2   \n",
       "1  University of Alaska at Fairbanks    AK                        1   \n",
       "\n",
       "   # appli. rec'd  # appl. accepted  # new stud. enrolled  \\\n",
       "0           193.0             146.0                  55.0   \n",
       "1          1852.0            1427.0                 928.0   \n",
       "\n",
       "   % new stud. from top 10%  % new stud. from top 25%  # FT undergrad  \\\n",
       "0                      16.0                      44.0           249.0   \n",
       "1                       NaN                       NaN          3885.0   \n",
       "\n",
       "   # PT undergrad  in-state tuition  out-of-state tuition    room   board  \\\n",
       "0           869.0            7560.0                7560.0  1620.0  2500.0   \n",
       "1          4519.0            1742.0                5226.0  1800.0  1790.0   \n",
       "\n",
       "   add. fees  estim. book costs  estim. personal $  % fac. w/PHD  \\\n",
       "0      130.0              800.0             1500.0          76.0   \n",
       "1      155.0              650.0             2304.0          67.0   \n",
       "\n",
       "   stud./fac. ratio  Graduation rate  \n",
       "0              11.9             15.0  \n",
       "1              10.0              NaN  "
      ]
     },
     "execution_count": 6,
     "metadata": {},
     "output_type": "execute_result"
    }
   ],
   "source": [
    "unis.head(2)"
   ]
  },
  {
   "cell_type": "markdown",
   "id": "7598ea2f",
   "metadata": {},
   "source": [
    "#### Clean up column names"
   ]
  },
  {
   "cell_type": "code",
   "execution_count": 7,
   "id": "5fce9406",
   "metadata": {
    "scrolled": true
   },
   "outputs": [
    {
     "data": {
      "text/plain": [
       "Index(['college', 'state', 'public_or_private', 'number_applications_received',\n",
       "       'number_applications_accepted', 'number_new_students_enrolled',\n",
       "       'percentage_new_students_from_top_10',\n",
       "       'percentage_new_students_from_top_25', 'number_ft_undergrad',\n",
       "       'number_pt_undergrad', 'in_state_tuition', 'out_of_state_tuition',\n",
       "       'room', 'board', 'additional_fees', 'estimated_book_costs',\n",
       "       'estimated_personal_spending', 'percentage_faculty_with_phd',\n",
       "       'student_faculty_ratio', 'graduation_rate'],\n",
       "      dtype='object')"
      ]
     },
     "execution_count": 7,
     "metadata": {},
     "output_type": "execute_result"
    }
   ],
   "source": [
    "cleaner_column_names = ['college', 'state', 'public_or_private',\n",
    "                        'number_applications_received',\n",
    "                        'number_applications_accepted',\n",
    "                        'number_new_students_enrolled',\n",
    "                        'percentage_new_students_from_top_10',\n",
    "                        'percentage_new_students_from_top_25',\n",
    "                        'number_ft_undergrad', 'number_pt_undergrad',\n",
    "                        'in_state_tuition', 'out_of_state_tuition', 'room',\n",
    "                        'board', 'additional_fees', 'estimated_book_costs',\n",
    "                        'estimated_personal_spending','percentage_faculty_with_phd',\n",
    "                        'student_faculty_ratio','graduation_rate']\n",
    "\n",
    "unis.columns = cleaner_column_names\n",
    "unis.columns"
   ]
  },
  {
   "cell_type": "markdown",
   "id": "0f9a768b",
   "metadata": {},
   "source": [
    "#### Bring in more geographic information"
   ]
  },
  {
   "cell_type": "code",
   "execution_count": 8,
   "id": "84ff709e",
   "metadata": {},
   "outputs": [],
   "source": [
    "test_df = pd.read_csv('https://raw.githubusercontent.com/cphalpert/census-regions\\\n",
    "/master/us%20census%20bureau%20regions%20and%20divisions.csv')"
   ]
  },
  {
   "cell_type": "code",
   "execution_count": 9,
   "id": "5365e420",
   "metadata": {
    "scrolled": true
   },
   "outputs": [
    {
     "data": {
      "text/html": [
       "<div>\n",
       "<style scoped>\n",
       "    .dataframe tbody tr th:only-of-type {\n",
       "        vertical-align: middle;\n",
       "    }\n",
       "\n",
       "    .dataframe tbody tr th {\n",
       "        vertical-align: top;\n",
       "    }\n",
       "\n",
       "    .dataframe thead th {\n",
       "        text-align: right;\n",
       "    }\n",
       "</style>\n",
       "<table border=\"1\" class=\"dataframe\">\n",
       "  <thead>\n",
       "    <tr style=\"text-align: right;\">\n",
       "      <th></th>\n",
       "      <th>State</th>\n",
       "      <th>State Code</th>\n",
       "      <th>Region</th>\n",
       "      <th>Division</th>\n",
       "    </tr>\n",
       "  </thead>\n",
       "  <tbody>\n",
       "    <tr>\n",
       "      <th>0</th>\n",
       "      <td>Alaska</td>\n",
       "      <td>AK</td>\n",
       "      <td>West</td>\n",
       "      <td>Pacific</td>\n",
       "    </tr>\n",
       "    <tr>\n",
       "      <th>1</th>\n",
       "      <td>Alabama</td>\n",
       "      <td>AL</td>\n",
       "      <td>South</td>\n",
       "      <td>East South Central</td>\n",
       "    </tr>\n",
       "  </tbody>\n",
       "</table>\n",
       "</div>"
      ],
      "text/plain": [
       "     State State Code Region            Division\n",
       "0   Alaska         AK   West             Pacific\n",
       "1  Alabama         AL  South  East South Central"
      ]
     },
     "execution_count": 9,
     "metadata": {},
     "output_type": "execute_result"
    }
   ],
   "source": [
    "test_df.head(2)"
   ]
  },
  {
   "cell_type": "code",
   "execution_count": 10,
   "id": "e801b3df",
   "metadata": {},
   "outputs": [],
   "source": [
    "test_df.rename(columns={'State': 'State_Name'}, inplace=True)"
   ]
  },
  {
   "cell_type": "code",
   "execution_count": 11,
   "id": "dd98b9c9",
   "metadata": {
    "scrolled": true
   },
   "outputs": [
    {
     "data": {
      "text/plain": [
       "Index(['State_Name', 'State Code', 'Region', 'Division'], dtype='object')"
      ]
     },
     "execution_count": 11,
     "metadata": {},
     "output_type": "execute_result"
    }
   ],
   "source": [
    "test_df.columns"
   ]
  },
  {
   "cell_type": "markdown",
   "id": "9325b072",
   "metadata": {},
   "source": [
    "#### Merge both dataframes"
   ]
  },
  {
   "cell_type": "code",
   "execution_count": 12,
   "id": "af289814",
   "metadata": {
    "scrolled": false
   },
   "outputs": [],
   "source": [
    "unis = pd.merge(unis, test_df, how='inner', left_on='state', right_on='State Code')"
   ]
  },
  {
   "cell_type": "code",
   "execution_count": 13,
   "id": "3ba6091e",
   "metadata": {
    "scrolled": true
   },
   "outputs": [
    {
     "data": {
      "text/plain": [
       "Index(['college', 'state', 'public_or_private', 'number_applications_received',\n",
       "       'number_applications_accepted', 'number_new_students_enrolled',\n",
       "       'percentage_new_students_from_top_10',\n",
       "       'percentage_new_students_from_top_25', 'number_ft_undergrad',\n",
       "       'number_pt_undergrad', 'in_state_tuition', 'out_of_state_tuition',\n",
       "       'room', 'board', 'additional_fees', 'estimated_book_costs',\n",
       "       'estimated_personal_spending', 'percentage_faculty_with_phd',\n",
       "       'student_faculty_ratio', 'graduation_rate', 'State_Name', 'State Code',\n",
       "       'Region', 'Division'],\n",
       "      dtype='object')"
      ]
     },
     "execution_count": 13,
     "metadata": {},
     "output_type": "execute_result"
    }
   ],
   "source": [
    "unis.columns"
   ]
  },
  {
   "cell_type": "markdown",
   "id": "8d1a5804",
   "metadata": {},
   "source": [
    "#### Continue to be fussy about column formatting and column order"
   ]
  },
  {
   "cell_type": "code",
   "execution_count": 14,
   "id": "89639fb7",
   "metadata": {},
   "outputs": [],
   "source": [
    "unis.columns = [col.lower().replace(' ', '_') \\\n",
    " if col != 'State Code' else 'state_code' for col in unis.columns]"
   ]
  },
  {
   "cell_type": "code",
   "execution_count": 15,
   "id": "1adfe6ca",
   "metadata": {
    "scrolled": false
   },
   "outputs": [
    {
     "data": {
      "text/plain": [
       "Index(['college', 'state', 'public_or_private', 'number_applications_received',\n",
       "       'number_applications_accepted', 'number_new_students_enrolled',\n",
       "       'percentage_new_students_from_top_10',\n",
       "       'percentage_new_students_from_top_25', 'number_ft_undergrad',\n",
       "       'number_pt_undergrad', 'in_state_tuition', 'out_of_state_tuition',\n",
       "       'room', 'board', 'additional_fees', 'estimated_book_costs',\n",
       "       'estimated_personal_spending', 'percentage_faculty_with_phd',\n",
       "       'student_faculty_ratio', 'graduation_rate', 'state_name', 'state_code',\n",
       "       'region', 'division'],\n",
       "      dtype='object')"
      ]
     },
     "execution_count": 15,
     "metadata": {},
     "output_type": "execute_result"
    }
   ],
   "source": [
    "unis.columns"
   ]
  },
  {
   "cell_type": "code",
   "execution_count": 16,
   "id": "36dd3ec5",
   "metadata": {},
   "outputs": [],
   "source": [
    "unis = unis.drop(columns=['state'])"
   ]
  },
  {
   "cell_type": "code",
   "execution_count": 17,
   "id": "06d7d65b",
   "metadata": {
    "scrolled": true
   },
   "outputs": [
    {
     "data": {
      "text/plain": [
       "Index(['college', 'public_or_private', 'number_applications_received',\n",
       "       'number_applications_accepted', 'number_new_students_enrolled',\n",
       "       'percentage_new_students_from_top_10',\n",
       "       'percentage_new_students_from_top_25', 'number_ft_undergrad',\n",
       "       'number_pt_undergrad', 'in_state_tuition', 'out_of_state_tuition',\n",
       "       'room', 'board', 'additional_fees', 'estimated_book_costs',\n",
       "       'estimated_personal_spending', 'percentage_faculty_with_phd',\n",
       "       'student_faculty_ratio', 'graduation_rate', 'state_name', 'state_code',\n",
       "       'region', 'division'],\n",
       "      dtype='object')"
      ]
     },
     "execution_count": 17,
     "metadata": {},
     "output_type": "execute_result"
    }
   ],
   "source": [
    "unis.columns"
   ]
  },
  {
   "cell_type": "code",
   "execution_count": 18,
   "id": "83614ec6",
   "metadata": {},
   "outputs": [],
   "source": [
    "# Cannot chain - NoneType errors\n",
    "unis.insert(1, 'state_code', unis.pop('state_code'))\n",
    "unis.insert(2, 'state_name', unis.pop('state_name'))\n",
    "unis.insert(3, 'region', unis.pop('region'))\n",
    "unis.insert(4, 'division', unis.pop('division'))"
   ]
  },
  {
   "cell_type": "code",
   "execution_count": 19,
   "id": "721efd6a",
   "metadata": {
    "scrolled": false
   },
   "outputs": [
    {
     "data": {
      "text/plain": [
       "Index(['college', 'state_code', 'state_name', 'region', 'division',\n",
       "       'public_or_private', 'number_applications_received',\n",
       "       'number_applications_accepted', 'number_new_students_enrolled',\n",
       "       'percentage_new_students_from_top_10',\n",
       "       'percentage_new_students_from_top_25', 'number_ft_undergrad',\n",
       "       'number_pt_undergrad', 'in_state_tuition', 'out_of_state_tuition',\n",
       "       'room', 'board', 'additional_fees', 'estimated_book_costs',\n",
       "       'estimated_personal_spending', 'percentage_faculty_with_phd',\n",
       "       'student_faculty_ratio', 'graduation_rate'],\n",
       "      dtype='object')"
      ]
     },
     "execution_count": 19,
     "metadata": {},
     "output_type": "execute_result"
    }
   ],
   "source": [
    "unis.columns"
   ]
  },
  {
   "cell_type": "code",
   "execution_count": 20,
   "id": "64672b70",
   "metadata": {
    "scrolled": false
   },
   "outputs": [
    {
     "data": {
      "text/html": [
       "<div>\n",
       "<style scoped>\n",
       "    .dataframe tbody tr th:only-of-type {\n",
       "        vertical-align: middle;\n",
       "    }\n",
       "\n",
       "    .dataframe tbody tr th {\n",
       "        vertical-align: top;\n",
       "    }\n",
       "\n",
       "    .dataframe thead th {\n",
       "        text-align: right;\n",
       "    }\n",
       "</style>\n",
       "<table border=\"1\" class=\"dataframe\">\n",
       "  <thead>\n",
       "    <tr style=\"text-align: right;\">\n",
       "      <th></th>\n",
       "      <th>college</th>\n",
       "      <th>state_code</th>\n",
       "      <th>state_name</th>\n",
       "      <th>region</th>\n",
       "      <th>division</th>\n",
       "      <th>public_or_private</th>\n",
       "      <th>number_applications_received</th>\n",
       "      <th>number_applications_accepted</th>\n",
       "      <th>number_new_students_enrolled</th>\n",
       "      <th>percentage_new_students_from_top_10</th>\n",
       "      <th>...</th>\n",
       "      <th>in_state_tuition</th>\n",
       "      <th>out_of_state_tuition</th>\n",
       "      <th>room</th>\n",
       "      <th>board</th>\n",
       "      <th>additional_fees</th>\n",
       "      <th>estimated_book_costs</th>\n",
       "      <th>estimated_personal_spending</th>\n",
       "      <th>percentage_faculty_with_phd</th>\n",
       "      <th>student_faculty_ratio</th>\n",
       "      <th>graduation_rate</th>\n",
       "    </tr>\n",
       "  </thead>\n",
       "  <tbody>\n",
       "    <tr>\n",
       "      <th>0</th>\n",
       "      <td>Alaska Pacific University</td>\n",
       "      <td>AK</td>\n",
       "      <td>Alaska</td>\n",
       "      <td>West</td>\n",
       "      <td>Pacific</td>\n",
       "      <td>2</td>\n",
       "      <td>193.0</td>\n",
       "      <td>146.0</td>\n",
       "      <td>55.0</td>\n",
       "      <td>16.0</td>\n",
       "      <td>...</td>\n",
       "      <td>7560.0</td>\n",
       "      <td>7560.0</td>\n",
       "      <td>1620.0</td>\n",
       "      <td>2500.0</td>\n",
       "      <td>130.0</td>\n",
       "      <td>800.0</td>\n",
       "      <td>1500.0</td>\n",
       "      <td>76.0</td>\n",
       "      <td>11.9</td>\n",
       "      <td>15.0</td>\n",
       "    </tr>\n",
       "    <tr>\n",
       "      <th>1</th>\n",
       "      <td>University of Alaska at Fairbanks</td>\n",
       "      <td>AK</td>\n",
       "      <td>Alaska</td>\n",
       "      <td>West</td>\n",
       "      <td>Pacific</td>\n",
       "      <td>1</td>\n",
       "      <td>1852.0</td>\n",
       "      <td>1427.0</td>\n",
       "      <td>928.0</td>\n",
       "      <td>NaN</td>\n",
       "      <td>...</td>\n",
       "      <td>1742.0</td>\n",
       "      <td>5226.0</td>\n",
       "      <td>1800.0</td>\n",
       "      <td>1790.0</td>\n",
       "      <td>155.0</td>\n",
       "      <td>650.0</td>\n",
       "      <td>2304.0</td>\n",
       "      <td>67.0</td>\n",
       "      <td>10.0</td>\n",
       "      <td>NaN</td>\n",
       "    </tr>\n",
       "  </tbody>\n",
       "</table>\n",
       "<p>2 rows × 23 columns</p>\n",
       "</div>"
      ],
      "text/plain": [
       "                             college state_code state_name region division  \\\n",
       "0          Alaska Pacific University         AK     Alaska   West  Pacific   \n",
       "1  University of Alaska at Fairbanks         AK     Alaska   West  Pacific   \n",
       "\n",
       "   public_or_private  number_applications_received  \\\n",
       "0                  2                         193.0   \n",
       "1                  1                        1852.0   \n",
       "\n",
       "   number_applications_accepted  number_new_students_enrolled  \\\n",
       "0                         146.0                          55.0   \n",
       "1                        1427.0                         928.0   \n",
       "\n",
       "   percentage_new_students_from_top_10  ...  in_state_tuition  \\\n",
       "0                                 16.0  ...            7560.0   \n",
       "1                                  NaN  ...            1742.0   \n",
       "\n",
       "   out_of_state_tuition    room   board  additional_fees  \\\n",
       "0                7560.0  1620.0  2500.0            130.0   \n",
       "1                5226.0  1800.0  1790.0            155.0   \n",
       "\n",
       "   estimated_book_costs  estimated_personal_spending  \\\n",
       "0                 800.0                       1500.0   \n",
       "1                 650.0                       2304.0   \n",
       "\n",
       "   percentage_faculty_with_phd  student_faculty_ratio  graduation_rate  \n",
       "0                         76.0                   11.9             15.0  \n",
       "1                         67.0                   10.0              NaN  \n",
       "\n",
       "[2 rows x 23 columns]"
      ]
     },
     "execution_count": 20,
     "metadata": {},
     "output_type": "execute_result"
    }
   ],
   "source": [
    "unis.head(2)"
   ]
  },
  {
   "cell_type": "code",
   "execution_count": 21,
   "id": "93671d32",
   "metadata": {},
   "outputs": [],
   "source": [
    "# uni['public_or_private'] = df['public_or_private'].astype('category')\n",
    "# uni['public_or_private'] = pd.Categorical(uni['public_or_private'])\n",
    "\n",
    "unis['public_or_private'] = unis['public_or_private'].replace({1: 'public', 2: 'private'})"
   ]
  },
  {
   "cell_type": "code",
   "execution_count": 22,
   "id": "4a95716b",
   "metadata": {},
   "outputs": [],
   "source": [
    "unis['number_applications_not_accepted'] = \\\n",
    "unis['number_applications_received'] - unis['number_applications_accepted']"
   ]
  },
  {
   "cell_type": "code",
   "execution_count": 23,
   "id": "74b7d334",
   "metadata": {
    "scrolled": true
   },
   "outputs": [
    {
     "data": {
      "text/html": [
       "<div>\n",
       "<style scoped>\n",
       "    .dataframe tbody tr th:only-of-type {\n",
       "        vertical-align: middle;\n",
       "    }\n",
       "\n",
       "    .dataframe tbody tr th {\n",
       "        vertical-align: top;\n",
       "    }\n",
       "\n",
       "    .dataframe thead th {\n",
       "        text-align: right;\n",
       "    }\n",
       "</style>\n",
       "<table border=\"1\" class=\"dataframe\">\n",
       "  <thead>\n",
       "    <tr style=\"text-align: right;\">\n",
       "      <th></th>\n",
       "      <th>number_applications_received</th>\n",
       "      <th>number_applications_accepted</th>\n",
       "      <th>number_applications_not_accepted</th>\n",
       "    </tr>\n",
       "  </thead>\n",
       "  <tbody>\n",
       "    <tr>\n",
       "      <th>0</th>\n",
       "      <td>193.0</td>\n",
       "      <td>146.0</td>\n",
       "      <td>47.0</td>\n",
       "    </tr>\n",
       "    <tr>\n",
       "      <th>1</th>\n",
       "      <td>1852.0</td>\n",
       "      <td>1427.0</td>\n",
       "      <td>425.0</td>\n",
       "    </tr>\n",
       "    <tr>\n",
       "      <th>2</th>\n",
       "      <td>146.0</td>\n",
       "      <td>117.0</td>\n",
       "      <td>29.0</td>\n",
       "    </tr>\n",
       "  </tbody>\n",
       "</table>\n",
       "</div>"
      ],
      "text/plain": [
       "   number_applications_received  number_applications_accepted  \\\n",
       "0                         193.0                         146.0   \n",
       "1                        1852.0                        1427.0   \n",
       "2                         146.0                         117.0   \n",
       "\n",
       "   number_applications_not_accepted  \n",
       "0                              47.0  \n",
       "1                             425.0  \n",
       "2                              29.0  "
      ]
     },
     "execution_count": 23,
     "metadata": {},
     "output_type": "execute_result"
    }
   ],
   "source": [
    "# Spot check\n",
    "unis[unis.columns[unis.columns.str.contains('number_applications')]].head(3)"
   ]
  },
  {
   "cell_type": "code",
   "execution_count": 24,
   "id": "68e78c68",
   "metadata": {},
   "outputs": [
    {
     "data": {
      "text/plain": [
       "number_applications_received        10\n",
       "number_applications_accepted        11\n",
       "number_applications_not_accepted    13\n",
       "dtype: int64"
      ]
     },
     "execution_count": 24,
     "metadata": {},
     "output_type": "execute_result"
    }
   ],
   "source": [
    "unis[unis.columns[unis.columns.str.contains('number_applications')]].isnull().sum()"
   ]
  },
  {
   "cell_type": "code",
   "execution_count": 25,
   "id": "adb08331",
   "metadata": {},
   "outputs": [],
   "source": [
    "unis['percentage_applications_accepted'] = \\\n",
    "round(unis['number_applications_accepted'] / unis['number_applications_received']*100, 2)"
   ]
  },
  {
   "cell_type": "code",
   "execution_count": 26,
   "id": "4b44ef28",
   "metadata": {},
   "outputs": [
    {
     "data": {
      "text/html": [
       "<div>\n",
       "<style scoped>\n",
       "    .dataframe tbody tr th:only-of-type {\n",
       "        vertical-align: middle;\n",
       "    }\n",
       "\n",
       "    .dataframe tbody tr th {\n",
       "        vertical-align: top;\n",
       "    }\n",
       "\n",
       "    .dataframe thead th {\n",
       "        text-align: right;\n",
       "    }\n",
       "</style>\n",
       "<table border=\"1\" class=\"dataframe\">\n",
       "  <thead>\n",
       "    <tr style=\"text-align: right;\">\n",
       "      <th></th>\n",
       "      <th>number_applications_received</th>\n",
       "      <th>number_applications_accepted</th>\n",
       "      <th>number_applications_not_accepted</th>\n",
       "      <th>percentage_applications_accepted</th>\n",
       "    </tr>\n",
       "  </thead>\n",
       "  <tbody>\n",
       "    <tr>\n",
       "      <th>0</th>\n",
       "      <td>193.0</td>\n",
       "      <td>146.0</td>\n",
       "      <td>47.0</td>\n",
       "      <td>75.65</td>\n",
       "    </tr>\n",
       "    <tr>\n",
       "      <th>1</th>\n",
       "      <td>1852.0</td>\n",
       "      <td>1427.0</td>\n",
       "      <td>425.0</td>\n",
       "      <td>77.05</td>\n",
       "    </tr>\n",
       "    <tr>\n",
       "      <th>2</th>\n",
       "      <td>146.0</td>\n",
       "      <td>117.0</td>\n",
       "      <td>29.0</td>\n",
       "      <td>80.14</td>\n",
       "    </tr>\n",
       "  </tbody>\n",
       "</table>\n",
       "</div>"
      ],
      "text/plain": [
       "   number_applications_received  number_applications_accepted  \\\n",
       "0                         193.0                         146.0   \n",
       "1                        1852.0                        1427.0   \n",
       "2                         146.0                         117.0   \n",
       "\n",
       "   number_applications_not_accepted  percentage_applications_accepted  \n",
       "0                              47.0                             75.65  \n",
       "1                             425.0                             77.05  \n",
       "2                              29.0                             80.14  "
      ]
     },
     "execution_count": 26,
     "metadata": {},
     "output_type": "execute_result"
    }
   ],
   "source": [
    "# Spot check\n",
    "unis[unis.columns[unis.columns.str.contains('applications')]].head(3)"
   ]
  },
  {
   "cell_type": "code",
   "execution_count": 28,
   "id": "d5df008b",
   "metadata": {},
   "outputs": [],
   "source": [
    "unis.insert(8, 'number_applications_not_accepted', \n",
    "            unis.pop('number_applications_not_accepted'))\n",
    "unis.insert(9, 'percentage_applications_accepted', \n",
    "            unis.pop('percentage_applications_accepted'))"
   ]
  },
  {
   "cell_type": "code",
   "execution_count": 29,
   "id": "1de3b99a",
   "metadata": {
    "scrolled": true
   },
   "outputs": [
    {
     "data": {
      "text/plain": [
       "Index(['college', 'state_code', 'state_name', 'region', 'division',\n",
       "       'public_or_private', 'number_applications_received',\n",
       "       'number_applications_accepted', 'number_applications_not_accepted',\n",
       "       'percentage_applications_accepted', 'number_new_students_enrolled',\n",
       "       'percentage_new_students_from_top_10',\n",
       "       'percentage_new_students_from_top_25', 'number_ft_undergrad',\n",
       "       'number_pt_undergrad', 'in_state_tuition', 'out_of_state_tuition',\n",
       "       'room', 'board', 'additional_fees', 'estimated_book_costs',\n",
       "       'estimated_personal_spending', 'percentage_faculty_with_phd',\n",
       "       'student_faculty_ratio', 'graduation_rate'],\n",
       "      dtype='object')"
      ]
     },
     "execution_count": 29,
     "metadata": {},
     "output_type": "execute_result"
    }
   ],
   "source": [
    "unis.columns"
   ]
  },
  {
   "cell_type": "code",
   "execution_count": 30,
   "id": "de407d90",
   "metadata": {},
   "outputs": [],
   "source": [
    "unis.to_csv('cleaned_university_data.csv', index=False)"
   ]
  }
 ],
 "metadata": {
  "kernelspec": {
   "display_name": "Python 3 (ipykernel)",
   "language": "python",
   "name": "python3"
  },
  "language_info": {
   "codemirror_mode": {
    "name": "ipython",
    "version": 3
   },
   "file_extension": ".py",
   "mimetype": "text/x-python",
   "name": "python",
   "nbconvert_exporter": "python",
   "pygments_lexer": "ipython3",
   "version": "3.9.12"
  }
 },
 "nbformat": 4,
 "nbformat_minor": 5
}
